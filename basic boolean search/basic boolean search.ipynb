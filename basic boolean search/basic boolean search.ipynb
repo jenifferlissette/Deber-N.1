{
 "cells": [
  {
   "cell_type": "markdown",
   "id": "e9e6533d-c9b2-4544-9231-ebeedc638d53",
   "metadata": {},
   "source": [
    "# Basic Boolean Search in Documents\n",
    "## Objective\n",
    "Expand the simple term search functionality to include Boolean search capabilities. This will allow users to perform more complex queries by combining multiple search terms using Boolean operators.\n",
    "\n",
    "## Problem Description\n",
    "You must enhance the existing search engine from the previous exercise to support Boolean operators: AND, OR, and NOT. This will enable the retrieval of documents based on the logical relationships between multiple terms.\n",
    "\n",
    "## Requirements\n",
    "### **Step 1: Update Data Preparation**\n",
    "Ensure that the documents are still loaded and preprocessed from the previous task. The data should be clean and ready for advanced querying."
   ]
  },
  {
   "cell_type": "code",
   "execution_count": 1,
   "id": "be0f50e1-9988-4570-bae8-5915d9226b12",
   "metadata": {},
   "outputs": [
    {
     "name": "stderr",
     "output_type": "stream",
     "text": [
      "[nltk_data] Downloading package stopwords to\n",
      "[nltk_data]     C:\\Users\\VELA\\AppData\\Roaming\\nltk_data...\n",
      "[nltk_data]   Package stopwords is already up-to-date!\n",
      "[nltk_data] Downloading package punkt to\n",
      "[nltk_data]     C:\\Users\\VELA\\AppData\\Roaming\\nltk_data...\n",
      "[nltk_data]   Package punkt is already up-to-date!\n"
     ]
    },
    {
     "data": {
      "text/plain": [
       "True"
      ]
     },
     "execution_count": 1,
     "metadata": {},
     "output_type": "execute_result"
    }
   ],
   "source": [
    "import os\n",
    "import pandas as pd\n",
    "from nltk.tokenize import word_tokenize\n",
    "from nltk.corpus import stopwords\n",
    "import string\n",
    "from nltk.stem import SnowballStemmer\n",
    "\n",
    "# Descargar el corpus de stopwords y punkt si no está disponible\n",
    "import nltk\n",
    "nltk.download('stopwords')\n",
    "nltk.download('punkt')\n"
   ]
  },
  {
   "cell_type": "markdown",
   "id": "4355ccb6",
   "metadata": {},
   "source": [
    "### **Step 2: Create an Inverted Index**\n",
    "Create an inverted index from the documents. This index maps each word to the set of document IDs in which that word appears. This facilitates word lookup in the search process."
   ]
  },
  {
   "cell_type": "code",
   "execution_count": 2,
   "id": "b3962d9b",
   "metadata": {},
   "outputs": [],
   "source": [
    "def create_inverted_index(directory):\n",
    "    index = {}\n",
    "    stemmer = SnowballStemmer('english')\n",
    "    \n",
    "    for root, dirs, files in os.walk(directory):\n",
    "        for file in files[:100]:  # Take only the first 100 files\n",
    "            file_path = os.path.join(root, file)\n",
    "            with open(file_path, 'r', encoding='utf-8') as f:\n",
    "                content = f.read().lower()  # Convert to lowercase\n",
    "                tokens = word_tokenize(content)\n",
    "                tokens = [stemmer.stem(token) for token in tokens if token not in stopwords.words('english') and token not in string.punctuation]\n",
    "                for word in tokens:\n",
    "                    if word in index:\n",
    "                        index[word].append(file_path)\n",
    "                    else:\n",
    "                        index[word] = [file_path]\n",
    "    return index"
   ]
  },
  {
   "cell_type": "code",
   "execution_count": 3,
   "id": "5564d363",
   "metadata": {},
   "outputs": [],
   "source": [
    "# Directory where the documents are located\n",
    "directory = \"../libros\"\n",
    "\n",
    "inverted_index = create_inverted_index(directory)\n",
    "print(\"Inverted index created.\")"
   ]
  },
  {
   "cell_type": "code",
   "execution_count": null,
   "id": "2102caea",
   "metadata": {},
   "outputs": [
    {
     "name": "stdout",
     "output_type": "stream",
     "text": [
      "Inverted index saved as 'inverted_index.csv'.\n"
     ]
    }
   ],
   "source": [
    "# Convert the inverted index into a dataframe\n",
    "df_index = pd.DataFrame([(word, files) for word, files in inverted_index.items()], columns=['Word', 'Files'])\n",
    "\n",
    "# Save the inverted index as a CSV file\n",
    "df_index.to_csv('inverted_index.csv', index=False)\n",
    "\n",
    "print(\"Inverted index saved as 'inverted_index.csv'.\")"
   ]
  },
  {
   "cell_type": "markdown",
   "id": "9e6dcd42",
   "metadata": {},
   "source": [
    "### **Step 3: Query Processing**\n",
    "* **Parse the Query**: Implement a function to parse the input query to identify the terms and operators.\n",
    "* **Search Documents**: Based on the parsed query, implement the logic to retrieve and rank the documents according to the Boolean expressions."
   ]
  },
  {
   "cell_type": "code",
   "execution_count": null,
   "id": "012f3e10",
   "metadata": {},
   "outputs": [
    {
     "name": "stdout",
     "output_type": "stream",
     "text": [
      "Empty DataFrame\n",
      "Columns: [Word, Files]\n",
      "Index: []\n"
     ]
    }
   ],
   "source": [
    "# Load the generated CSV file\n",
    "df_index = pd.read_csv('inverted_index.csv')\n",
    "\n",
    "# Display the loaded DataFrame\n",
    "print(df_index.head())"
   ]
  },
  {
   "cell_type": "markdown",
   "id": "0c15ae14",
   "metadata": {},
   "source": [
    "### **Step 4: Displaying Results**\n",
    "* **Output the Results**: Display the documents that match the query criteria. Include functionalities to handle queries that result in no matching documents."
   ]
  },
  {
   "cell_type": "code",
   "execution_count": null,
   "id": "48f0859f",
   "metadata": {},
   "outputs": [],
   "source": [
    "def search_query(query, df_index):\n",
    "    result = df_index[df_index['Word'] == query]['Files'].tolist()\n",
    "    result = eval(result[0]) if result else []\n",
    "    return set(result)"
   ]
  },
  {
   "cell_type": "code",
   "execution_count": null,
   "id": "622d21ec",
   "metadata": {},
   "outputs": [
    {
     "ename": "NameError",
     "evalue": "name 'search_query' is not defined",
     "output_type": "error",
     "traceback": [
      "\u001b[1;31m---------------------------------------------------------------------------\u001b[0m",
      "\u001b[1;31mNameError\u001b[0m                                 Traceback (most recent call last)",
      "Cell \u001b[1;32mIn[6], line 5\u001b[0m\n\u001b[0;32m      2\u001b[0m query \u001b[38;5;241m=\u001b[39m \u001b[38;5;124m\"\u001b[39m\u001b[38;5;124mbug\u001b[39m\u001b[38;5;124m\"\u001b[39m\n\u001b[0;32m      4\u001b[0m \u001b[38;5;66;03m# Realizar la búsqueda\u001b[39;00m\n\u001b[1;32m----> 5\u001b[0m result \u001b[38;5;241m=\u001b[39m \u001b[43msearch_query\u001b[49m(query, df_index)\n\u001b[0;32m      7\u001b[0m \u001b[38;5;66;03m# Formatear y mostrar los resultados de manera elegante\u001b[39;00m\n\u001b[0;32m      8\u001b[0m \u001b[38;5;28;01mif\u001b[39;00m result:\n",
      "\u001b[1;31mNameError\u001b[0m: name 'search_query' is not defined"
     ]
    }
   ],
   "source": [
    "# Example of query\n",
    "query = \"country\"\n",
    "\n",
    "# Perform the search\n",
    "result = search_query(query, df_index)\n",
    "\n",
    "if result:\n",
    "    print(\"Se encontro en los siguientes documentos:\")\n",
    "    formatted_results = [os.path.basename(file_path) for file_path in result]\n",
    "    for file_name in formatted_results:\n",
    "        print(file_name)\n",
    "else:\n",
    "    print(\"No se encontraron documentos relacionados con la consulta.\")"
   ]
  },
  {
   "cell_type": "markdown",
   "id": "41fc2607",
   "metadata": {},
   "source": [
    "## Evaluation Criteria\n",
    "* **Correctness**: The Boolean search implementation should correctly interpret and process the queries according to the Boolean logic.\n",
    "* **Efficiency**: Consider the efficiency of your search process, especially as the complexity of queries increases.\n",
    "* **User Experience**: Ensure that the interface for inputting queries and viewing results is user-friendly."
   ]
  }
 ],
 "metadata": {
  "kernelspec": {
   "display_name": "Python 3 (ipykernel)",
   "language": "python",
   "name": "python3"
  },
  "language_info": {
   "codemirror_mode": {
    "name": "ipython",
    "version": 3
   },
   "file_extension": ".py",
   "mimetype": "text/x-python",
   "name": "python",
   "nbconvert_exporter": "python",
   "pygments_lexer": "ipython3",
   "version": "3.11.4"
  }
 },
 "nbformat": 4,
 "nbformat_minor": 5
}
